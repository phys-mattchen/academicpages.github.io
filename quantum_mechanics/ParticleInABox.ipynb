{
  "cells": [
    {
      "cell_type": "markdown",
      "metadata": {
        "id": "VhijEqcK3RsZ"
      },
      "source": [
        "# Particle in a Box"
      ]
    },
    {
      "cell_type": "markdown",
      "metadata": {
        "id": "eMlVE3SJ3Rsa"
      },
      "source": [
        "* **Author:**\n",
        "\n",
        "* **Date:**\n",
        "\n",
        "* **Time spent on this assignment:**"
      ]
    },
    {
      "cell_type": "code",
      "execution_count": null,
      "metadata": {
        "tags": [
          "hide-cell"
        ],
        "id": "NYZx9JXP3Rsa",
        "outputId": "2bb89ac0-5cea-4402-a617-c0a38024cf7e"
      },
      "outputs": [
        {
          "data": {
            "text/plain": [
              "datetime.datetime(2025, 8, 27, 11, 16, 54, 837988)"
            ]
          },
          "execution_count": 138,
          "metadata": {},
          "output_type": "execute_result"
        }
      ],
      "source": [
        "import numpy as np\n",
        "import scipy\n",
        "import matplotlib.pyplot as plt\n",
        "import math\n",
        "from matplotlib.animation import FuncAnimation\n",
        "from IPython.display import HTML\n",
        "import matplotlib.animation as animation\n",
        "from IPython.display import HTML\n",
        "def resetMe(keepList=[]):\n",
        "    ll=%who_ls\n",
        "    keepList=keepList+['FuncAnimation','HTML','resetMe','scipy','np','plt','math','jax','jnp','jit','grad','HTML','animation','animateMe_singlePendula']\n",
        "    for iiii in keepList:\n",
        "        if iiii in ll:\n",
        "            ll.remove(iiii)\n",
        "    for iiii in ll:\n",
        "        jjjj=\"^\"+iiii+\"$\"\n",
        "        %reset_selective -f {jjjj}\n",
        "    ll=%who_ls\n",
        "    plt.rcParams.update({\"font.size\": 14})\n",
        "    return\n",
        "resetMe()\n",
        "import datetime;datetime.datetime.now()"
      ]
    },
    {
      "cell_type": "markdown",
      "metadata": {
        "id": "_1ihVQ5e3Rsb"
      },
      "source": [
        "## Exercise 1. Particle in a Infinite Box"
      ]
    },
    {
      "cell_type": "markdown",
      "metadata": {
        "id": "wsNDpa1j3Rsb"
      },
      "source": [
        "### a. Hamiltonian and Eigenvalues"
      ]
    },
    {
      "cell_type": "markdown",
      "metadata": {
        "id": "rQpWWe-Q3Rsb"
      },
      "source": [
        "Consider a particle in a box of length 20 spanning $-10 \\leq x \\leq 10$\n",
        "\n",
        "We are going to start by solving the time-independent schrodinger equation:\n",
        "\n",
        "$$-\\frac{\\hbar^2}{2m} \\frac{\\partial^2 \\Psi}{\\partial x^2}  + V\\Psi = E\\Psi $$\n",
        "\n",
        "$$\\left( -\\frac{\\hbar^2}{2m} \\frac{\\partial^2}{\\partial x^2}  + V \\right) \\Psi = E\\Psi $$\n",
        "\n",
        "While this looks like a differential equation,we can actually think of it as a matrix equation - i.e. $H\\Psi = E \\Psi$ where\n",
        "\n",
        "$$ H \\equiv \\left( -\\frac{\\hbar^2}{2m} \\frac{\\partial^2}{\\partial x^2}  + V \\right)  $$\n",
        "\n",
        "For a particle in a box, the V=0 (other then the infinite hard walls) and so we can ignore it for here.  We will have to pay more attention to it when we have a finite-walled box. We will also work in units where $\\hbar=m=1$.  For most of this assignment we will be working in the $x$ basis.  \n",
        "\n",
        "To write it as a matrix equation, we need to discretize $x$.  We will do that in $\\Delta x$ steps of 0.01 as\n",
        "```\n",
        "def SetupGrid(L,delta_x):\n",
        "    n=int(round(L/delta_x))+1\n",
        "    xs=np.linspace(-L/2,L/2,n,endpoint=True)\n",
        "    return xs\n",
        "\n",
        "xs=SetupGrid(20,0.01)\n",
        "```\n",
        "\n",
        "This gives us a list of x (stored in `xs`) separated by steps of 0.01.  You can print it out to see it.\n"
      ]
    },
    {
      "cell_type": "markdown",
      "metadata": {
        "id": "7EdDz2hS3Rsc"
      },
      "source": [
        "Now we need to figure out what the matrix is $H$.  To get the matrix for the first piece, we will use from calculus that the stencil for a second derivative is\n",
        "\n",
        "$$-\\frac{1}{2} \\frac{\\partial^2 }{\\partial x^2} \\equiv -\\frac{1}{2}  \\frac{f(x+\\delta) - 2 f(x) + f(x-\\delta)}{\\delta^2}$$\n",
        "\n",
        "We can let the rows and columns of the matrix $M$ to be indexed by the values of $x$\n",
        "\n",
        "This gives us a matrix of\n",
        "\n",
        "$$\n",
        "H[i,j] = \\begin{cases}\n",
        "\\frac{1}{2} \\frac{2}{(\\delta x)^2} & \\text{if } i == j \\\\\n",
        "-\\frac{1}{2}  \\frac{1}{(\\delta x)^2} & \\text{if } \\textrm{abs}(i-j)== 1\\\\\n",
        "0 & \\text{otherwise }\n",
        "\\end{cases}\n",
        "$$\n",
        "\n",
        "Your first step is to make a matrix $H$ in python and fill it out as above.\n",
        "\n",
        "To build a matrix of zeros you can do\n",
        "`H=np.zeros((len(xs),len(xs)))`\n",
        "which builds a matrix of size len(xs) x len(xs)\n",
        "\n",
        "You now need to loop over the rows of your matrix and, for each row, fill out the three (or less at the edges) non-zero matrix elements of your matrix.  Do not loop over both the rows and columns (or it will take forever).\n",
        "\n",
        "If you're feeling comfortable with python and numpy, you can also use `np.diag` to set it up more efficiently.\n",
        "\n",
        "As a sanity check, display the upper left of your matrix by doing `plt.matshow(H[0:10,0:10)`.  It should look like it has a stripe down the diagonal and two identically colored stripes down the off-diagonal.\n",
        "\n",
        "\n",
        "Once you've created H, you can find the eigenvalues and eigenvectors by doing\n",
        "```\n",
        "e,v=np.linalg.eigh(H)\n",
        "```\n",
        "\n",
        "The eigenvalues are now `e[0],e[1],`... and the eigenstates are now `v[:,0], v[:,1],`...  (a common bug is to instead thing they are `v[0]`)\n",
        "\n",
        "Let us also check that we actually satisfy the equation above.  For our second eigenvalue `v[:,1]` let's verify that $Hv_1 = Ev_1$ (i.e. `H @ v[:,1]` is equal to `e[1] * v[:,1]`).  You can check they are the same by subtracting them and making sure the result is essentially 0 (i.e term less then 1e-12).\n"
      ]
    },
    {
      "cell_type": "markdown",
      "metadata": {
        "id": "N6AQsETO3Rsc"
      },
      "source": [
        "<div><img src=\"https://clark.physics.illinois.edu/246img/AnsStart.svg\" width=200 align=left alt=\"Answer (start)\"></img><br></div>"
      ]
    },
    {
      "cell_type": "code",
      "execution_count": null,
      "metadata": {
        "tags": [
          "hide-cell",
          "answer-cell"
        ],
        "id": "gSZ6Sd683Rsc"
      },
      "outputs": [],
      "source": [
        "###ANSWER HERE"
      ]
    },
    {
      "cell_type": "markdown",
      "metadata": {
        "id": "R2iFehXF3Rsc"
      },
      "source": [
        "<div><img src=\"https://clark.physics.illinois.edu/246img/AnsEnd.svg\" width=200 align=left alt=\"Answer (end)\"></img><br></div>"
      ]
    },
    {
      "cell_type": "markdown",
      "metadata": {
        "id": "C_FZlMPY3Rsc"
      },
      "source": [
        "Now let us plot some of this information.  First go ahead and plot the lowest five eigenvalues.  You should also plot the expected answer\n",
        "\n",
        "$$\n",
        "E_n = \\frac{\\pi^2}{2L^2}n^2\n",
        "$$\n",
        "\n",
        "for $n \\in \\{1,2,...\\}$\n",
        "\n",
        "To plot something you do\n",
        "```\n",
        "plt.plot(x,y)\n",
        "```\n",
        "where `x` and `y` are lists (or numpy arrays) or points.\n",
        "\n",
        "In the case of the eigenvalues your `x` is going to be `[1,2,3,4,5]` and `y` is going to be `e[0:5]`  After you've made all the plots that you want to show up on one graph you need to call `plt.show()`  To label the axis of your plot you can do things like\n",
        "```\n",
        "plt.xlabel(\"n\")\n",
        "plt.ylabel(\"eigenvalue\")\n",
        "```\n",
        "\n",
        "Notice that the lowest energy is not zero.  This is a result of the zero-point energy of the particle in the box.  If you reran this with a smaller box, you'd also get a higher energy.   \n",
        "\n",
        "You may also notice that if you plot enough eigenvalues, you eventually get energies which don't agree with the theoretical prediction.  This is essentially because there is a point at which it notices the discretization $\\delta x$ of the box we are using.\n",
        "\n"
      ]
    },
    {
      "cell_type": "markdown",
      "metadata": {
        "id": "noIKQMWT3Rsc"
      },
      "source": [
        "<div><img src=\"https://clark.physics.illinois.edu/246img/AnsStart.svg\" width=200 align=left alt=\"Answer (start)\"></img><br></div>"
      ]
    },
    {
      "cell_type": "code",
      "execution_count": null,
      "metadata": {
        "tags": [
          "hide-cell",
          "answer-cell"
        ],
        "id": "5GuGxAsT3Rsc"
      },
      "outputs": [],
      "source": [
        "###ANSWER HERE"
      ]
    },
    {
      "cell_type": "markdown",
      "metadata": {
        "id": "LNhni-iH3Rsc"
      },
      "source": [
        "<div><img src=\"https://clark.physics.illinois.edu/246img/AnsEnd.svg\" width=200 align=left alt=\"Answer (end)\"></img><br></div>"
      ]
    },
    {
      "cell_type": "markdown",
      "metadata": {
        "id": "TOsjLELk3Rsc"
      },
      "source": [
        "### b. Eigenvectors"
      ]
    },
    {
      "cell_type": "markdown",
      "metadata": {
        "id": "ClPYftB93Rsd"
      },
      "source": [
        "We would also like to look at the eigenvectors.  We know that the eigenvectors are supposed to be orthonormal.  This means that their dot product $e_i^\\dagger e_j$ (also written $\\langle e_i | e_j\\rangle$) is either zero if they are different ($i \\neq j$) or equal to one (if they are the same).\n",
        "\n",
        "Go ahead and verify that the three lowest states are orthonormal with respect to each other.  (Note: numbers that are near 1e-16 you should treat as zero).\n",
        "\n",
        "In python $a^\\dagger b$ can be computed by\n",
        "```\n",
        "np.vdot(a,b)\n",
        "```\n",
        "or\n",
        "```\n",
        "a.conjugate() @ b.T\n",
        "```\n",
        "In addition to verifying this, we would like to make sure that we got the same answer as we computed theoretically. Plot the lowest three eigenvalues. On top of those eigenvalues plot the three expected values as well\n",
        "\n",
        "$$\n",
        "\\Psi(x) = \\begin{cases}\n",
        "\\sqrt{2\\delta x/L} \\sin((n\\pi/L) x)  \\text{ if n is even}\\\\\n",
        "\\sqrt{2\\delta x/L} \\cos((n\\pi/L) x)  \\text{ if n is odd}\\\\\n",
        "\\end{cases}\n",
        "$$\n",
        "\n",
        "Remember you already have `xs` defined and so can do things like `np.cos(xs)`\n"
      ]
    },
    {
      "cell_type": "markdown",
      "metadata": {
        "id": "7Mh6oVCi3Rsd"
      },
      "source": [
        "<div><img src=\"https://clark.physics.illinois.edu/246img/AnsStart.svg\" width=200 align=left alt=\"Answer (start)\"></img><br></div>"
      ]
    },
    {
      "cell_type": "code",
      "execution_count": null,
      "metadata": {
        "tags": [
          "hide-cell",
          "answer-cell"
        ],
        "id": "Xsv0FxVL3Rsd"
      },
      "outputs": [],
      "source": [
        "###ANSWER HERE"
      ]
    },
    {
      "cell_type": "markdown",
      "metadata": {
        "id": "sbCgBvR53Rsd"
      },
      "source": [
        "<div><img src=\"https://clark.physics.illinois.edu/246img/AnsEnd.svg\" width=200 align=left alt=\"Answer (end)\"></img><br></div>"
      ]
    },
    {
      "cell_type": "markdown",
      "metadata": {
        "id": "ipyhgRy43Rsd"
      },
      "source": [
        "## Exercise 2. Expectation values"
      ]
    },
    {
      "cell_type": "markdown",
      "metadata": {
        "id": "KmNwdIIB3Rsd"
      },
      "source": [
        "### a. Measuring"
      ]
    },
    {
      "cell_type": "markdown",
      "metadata": {
        "id": "YqdHrf8O3Rsd"
      },
      "source": [
        "In the previous problem, you plotted the wave-function amplitude $\\Psi(x)$ for various eigenstates of the Hamiltonian. Experimentally, though, you aren't measuring the amplitudes.  Instead you are measuring the probability or expectation values.  \n",
        "\n",
        "In this section, let's start by working with the wave-function\n",
        "\n",
        "$$|\\Psi\\rangle = \\sqrt{0.1}|v_0\\rangle + \\sqrt{0.25}|v_1\\rangle + i \\sqrt{0.65}|v_2\\rangle $$\n",
        "\n",
        "where $|v_0\\rangle$, $|v_1\\rangle$, $|v_2\\rangle$ are the eigenstates you computed for the particle in a box.  (In python to get imaginary numbers you have to use 1.j or the third term above is `1.j*np.sqrt(0.65)*v[:,2]`)\n",
        "\n",
        "Plot the probability $|\\Psi(x)|^2$ of the state above. If the particle in the box happened to be in this state, and you measured its position, this is the probability you would see it at a given position.  \n",
        "\n",
        "Now let's simulate measuring our wave-function in the position basis.  If you do `x=np.random.choice(xs, p=np.abs(psi)**2)`\n",
        "it will choose an $x$ appropriately from the wave-function.    Write a loop which simulates 200 measurements and then plot each of these measurements on the x-axis of your wave-function plot - i.e. `plt.plot(x,0,'.',color='red')`.\n",
        "\n",
        "What you should notice is that most of these points are centered in the area where the probability is highest."
      ]
    },
    {
      "cell_type": "markdown",
      "metadata": {
        "id": "1itfDtTh3Rsd"
      },
      "source": [
        "<div><img src=\"https://clark.physics.illinois.edu/246img/AnsStart.svg\" width=200 align=left alt=\"Answer (start)\"></img><br></div>"
      ]
    },
    {
      "cell_type": "code",
      "execution_count": null,
      "metadata": {
        "tags": [
          "hide-cell",
          "answer-cell"
        ],
        "id": "Xx0sQO8X3Rsd"
      },
      "outputs": [],
      "source": [
        "###ANSWER HERE"
      ]
    },
    {
      "cell_type": "markdown",
      "metadata": {
        "id": "Lmqxm6GR3Rsd"
      },
      "source": [
        "<div><img src=\"https://clark.physics.illinois.edu/246img/AnsEnd.svg\" width=200 align=left alt=\"Answer (end)\"></img><br></div>"
      ]
    },
    {
      "cell_type": "markdown",
      "metadata": {
        "id": "q2mEJUKR3Rsd"
      },
      "source": [
        "### b. Expectation in the diagonal basis"
      ]
    },
    {
      "cell_type": "markdown",
      "metadata": {
        "id": "6FbB3Ktd3Rsd"
      },
      "source": [
        "When an experimentalist measures their particle many times, they could report all the places where the electron is.  But often it is easier just to report the average of those locations. This is called the expectation value of $x$ or $\\langle x \\rangle$.  \n",
        "\n",
        "In the next few parts, we will compute the expectation value of $x$ in three different ways:\n",
        "First, let's just take the code that you wrote above but now measure 10,000 times. Instead of plotting it, just report the aveage of all the $x$ that you see.\n",
        "\n",
        "In addition, you can take all 10,000 x's you measured and report the standard deviation - `np.std(all_x)`\n"
      ]
    },
    {
      "cell_type": "markdown",
      "metadata": {
        "id": "xqyEYAwA3Rsd"
      },
      "source": [
        "<div><img src=\"https://clark.physics.illinois.edu/246img/AnsStart.svg\" width=200 align=left alt=\"Answer (start)\"></img><br></div>"
      ]
    },
    {
      "cell_type": "code",
      "execution_count": null,
      "metadata": {
        "tags": [
          "answer-cell"
        ],
        "id": "p19PsPkh3Rse"
      },
      "outputs": [],
      "source": [
        "###ANSWER HERE"
      ]
    },
    {
      "cell_type": "markdown",
      "metadata": {
        "id": "nYFxlHdj3Rse"
      },
      "source": [
        "<div><img src=\"https://clark.physics.illinois.edu/246img/AnsEnd.svg\" width=200 align=left alt=\"Answer (end)\"></img><br></div>"
      ]
    },
    {
      "cell_type": "markdown",
      "metadata": {
        "id": "cMWeXyVt3Rse"
      },
      "source": [
        "Now instead of doing it with the random measurements we can actually just use the fact that we know the probability of $x$ at every $x$ to compute an average as\n",
        "\n",
        "$$\\sum_x P(x) x$$\n",
        "where $P(x) = |\\Psi(x)|^2$.   Go ahead and compute this using python.  It will be useful to use `np.sum(...)` which can sum up a numpy array and you can pointwise multiply two arrays $a$ and $b$ by doing `a*b`.  Remember you already have the array xs.  You should get an answer close to your answer above but it doesn't have to be exactly the same (because the answer above involved some randomness)"
      ]
    },
    {
      "cell_type": "markdown",
      "metadata": {
        "id": "FM0v_Cdq3Rse"
      },
      "source": [
        "<div><img src=\"https://clark.physics.illinois.edu/246img/AnsStart.svg\" width=200 align=left alt=\"Answer (start)\"></img><br></div>"
      ]
    },
    {
      "cell_type": "code",
      "execution_count": null,
      "metadata": {
        "tags": [
          "hide-cell",
          "answer-cell"
        ],
        "id": "1SzQQUwC3Rse"
      },
      "outputs": [],
      "source": [
        "###ANSWER HERE"
      ]
    },
    {
      "cell_type": "markdown",
      "metadata": {
        "id": "95gEvot23Rse"
      },
      "source": [
        "<div><img src=\"https://clark.physics.illinois.edu/246img/AnsEnd.svg\" width=200 align=left alt=\"Answer (end)\"></img><br></div>"
      ]
    },
    {
      "cell_type": "markdown",
      "metadata": {
        "id": "9Hp42zAp3Rse"
      },
      "source": [
        "In addition to getting the expectation value of $x$, you should also get the expectation value of $x^2$, $\\langle x^2 \\rangle$ - i.e. $\\sum_x P(x) x^2$.   From $\\langle x \\rangle$ and $\\langle x^2 \\rangle$, we can compute\n",
        "\n",
        "$$ \\Delta x = \\sqrt{\\langle X^2 \\rangle - \\langle X \\rangle^2}$$\n",
        "\n",
        "which quantifes the standard deviation of the position.   \n",
        "\n",
        "Compute this standard deviation as well."
      ]
    },
    {
      "cell_type": "markdown",
      "metadata": {
        "id": "BWu5AdQE3Rse"
      },
      "source": [
        "<div><img src=\"https://clark.physics.illinois.edu/246img/AnsStart.svg\" width=200 align=left alt=\"Answer (start)\"></img><br></div>"
      ]
    },
    {
      "cell_type": "code",
      "execution_count": null,
      "metadata": {
        "tags": [
          "answer-cell"
        ],
        "id": "tKeJ1m7j3Rse"
      },
      "outputs": [],
      "source": [
        "###ANSWER HERE"
      ]
    },
    {
      "cell_type": "markdown",
      "metadata": {
        "id": "9W5S1Z3r3Rse"
      },
      "source": [
        "<div><img src=\"https://clark.physics.illinois.edu/246img/AnsEnd.svg\" width=200 align=left alt=\"Answer (end)\"></img><br></div>"
      ]
    },
    {
      "cell_type": "markdown",
      "metadata": {
        "id": "nbWM3edv3Rse"
      },
      "source": [
        "We would also like to find the energy, which is the expectation value of the Hamiltonian.  This would be $\\sum_x P(x) E(x)$ where $E(x)$ is the energy of the state when it is at a particular $x$ (for example, the energy of the state when you $x=3.2$).  Unfortunately, we don't know what that energy is so this becomes a bit tricky. We will see a more general way to approach this in the next part."
      ]
    },
    {
      "cell_type": "markdown",
      "metadata": {
        "id": "zX__1Or-3Rsn"
      },
      "source": [
        "### c. Expectation values (using operators )"
      ]
    },
    {
      "cell_type": "markdown",
      "metadata": {
        "id": "3z1AaF3b3Rsn"
      },
      "source": [
        "So far we've computed expectation values for diagonal observables by evaluating the propbability of a particular value of $x$ and then computing the observable for that value of $x$.   Another approach to computing expectation values is to start with an operator corresponding to that observable $\\hat{O}$  and then evaluate\n",
        "\n",
        "$$ \\langle O \\rangle = \\langle \\Psi | \\hat{O} |\\Psi \\rangle$$\n",
        "\n",
        "An operator $\\hat{O}$ is just a matrix in a particular basis.  \n",
        "\n",
        "For example, to compute the expectation value of the position, we should evaluate it with respect to the $X$ operator.  In the position basis, the $X$ operator is particular simple:   down the diagonal there should be the value of $x$.  Similarly the matrix for the $\\hat{X^2}$ operator in the position basis is diagonal with $x^2$ down the diagonal (also equivalent to `X @ X`)\n",
        "\n",
        "Produce these two operators and evaluate the expectation of the relevant observables - i.e. `psi.conjugate() @ X @ psi.T`\n",
        "\n",
        "You should get the same answer as before.  On your probability distribution,  plot a vertical line (`plt.axvline(..)`) where the expected value of the position is."
      ]
    },
    {
      "cell_type": "markdown",
      "metadata": {
        "id": "y9ux54-e3Rsn"
      },
      "source": [
        "<div><img src=\"https://clark.physics.illinois.edu/246img/AnsStart.svg\" width=200 align=left alt=\"Answer (start)\"></img><br></div>"
      ]
    },
    {
      "cell_type": "code",
      "execution_count": null,
      "metadata": {
        "tags": [
          "answer-cell"
        ],
        "id": "qaF8GG4V3Rsn"
      },
      "outputs": [],
      "source": [
        "###ANSWER HERE"
      ]
    },
    {
      "cell_type": "markdown",
      "metadata": {
        "id": "zqfDcEku3Rsn"
      },
      "source": [
        "<div><img src=\"https://clark.physics.illinois.edu/246img/AnsEnd.svg\" width=200 align=left alt=\"Answer (end)\"></img><br></div>"
      ]
    },
    {
      "cell_type": "markdown",
      "metadata": {
        "id": "c-g_rnCr3Rso"
      },
      "source": [
        "The advantage of this approach is that we now can actually compute expectation values with respect to different observables.  For example, we might want the\n",
        "\n",
        "**Momentum:**\n",
        "\n",
        "$$\\hat{P} = -i\\hbar \\frac{\\partial}{\\partial x}$$\n",
        "\n",
        "In order to represent this in the position basis, we need to use the stencil for the first derivative\n",
        "\n",
        "$$\\frac{\\partial}{\\partial x} = \\frac{f(x+\\delta)-f(x-\\delta)}{2\\delta}$$\n",
        "\n",
        "As a matrix this will correspond to $-i/(2\\delta)$ on the upper right off-diagonal and $i/(2\\delta)$ on the lower right off-diagonal.  \n",
        "\n",
        "Build the matrix for $P$ and compute the expectation value of the momentum.  \n",
        "\n",
        "**Energy:**\n",
        "\n",
        "We might also want the expected value of the energy.  The relevant matrix for the energy is actually just the Hamiltonian H.  Go ahead and also compute the expected value of the energy.\n",
        "\n",
        "Check that the energy is equal to `0.1*e[0]+0.25*e[1]+0.65*e[2]`.  \n",
        "\n",
        "You can see why this works if you analytically work out what\n",
        "\n",
        "$$\\left(\\sqrt{0.1} \\langle v_0| + i \\sqrt{0.25} \\langle v_1| + \\sqrt{0.65} \\langle v_2|\\right) H \\left( \\sqrt{0.1} | v_0 \\rangle + -i \\sqrt{0.25} | v_1 \\rangle + \\sqrt{0.65} | v_2\\rangle\\right)$$\n",
        "\n",
        "For this you will need to use the fact that $H |v_i\\rangle = \\lambda_i |v_i\\rangle$ and that the states are orthogonal\n"
      ]
    },
    {
      "cell_type": "markdown",
      "metadata": {
        "id": "tQsshaFA3Rso"
      },
      "source": [
        "<div><img src=\"https://clark.physics.illinois.edu/246img/AnsStart.svg\" width=200 align=left alt=\"Answer (start)\"></img><br></div>"
      ]
    },
    {
      "cell_type": "code",
      "execution_count": null,
      "metadata": {
        "tags": [
          "hide-cell",
          "answer-cell"
        ],
        "id": "6pMNS2wb3Rso"
      },
      "outputs": [],
      "source": [
        "###ANSWER HERE"
      ]
    },
    {
      "cell_type": "markdown",
      "metadata": {
        "id": "n-uq1sOa3Rso"
      },
      "source": [
        "<div><img src=\"https://clark.physics.illinois.edu/246img/AnsEnd.svg\" width=200 align=left alt=\"Answer (end)\"></img><br></div>"
      ]
    },
    {
      "cell_type": "markdown",
      "metadata": {
        "id": "ZdFgq2rq3Rso"
      },
      "source": [
        "### d. How do the two approaches for expectation values relate?  (optional)"
      ]
    },
    {
      "cell_type": "markdown",
      "metadata": {
        "id": "J7zGwyw53Rso"
      },
      "source": [
        "We've seen two different approaches to computing expectation values.  We'd like to understand how they relate.  For $\\langle x^2 \\rangle$ it's pretty easy to see what's going on.  Because that matrix is diagonal when we compute `psi @ X2 @ psi.T.conjugate()` we are actually just summing up $\\sum_x \\psi(x) x^2 \\psi^*(x) = \\sum_x |\\psi(x)|^2 x^2$.  \n",
        "\n",
        "But what about when we compute the average energy.  We evaluate `psi.conjugate() @ H @ psi.T` which is not a diagonal and it's not obvious how to rewrite it as something like $\\sum_x P(x) E(x)$.  \n",
        "\n",
        "It's an interesting fact that  `H = v @ np.diag(e) @ v.T.conjugate()`   Verify that this is true.\n",
        "\n",
        "Then we could write `psi.conjugate() @ H @ psi.T` as `psi.conjugate() @ v @ np.diag(e) @ v.T.conjugate() @ psi.T` which is equal to\n",
        "\n",
        "`(psi.conjugate() @ v) @ np.diag(e) @ (psi.T @ v).conjugate()`\n",
        "\n",
        "This now does very much look like a diagonal matrix sandwhiched between a \"new psi\" which is `psi.conjugate() @ v`.  \n",
        "\n",
        "Let's compute this new `psi_e = psi.conjugate() @ v` and then\n",
        "\n",
        "* evaluate `psi_e.conjugate() @ np.diag(e) @ psi_e.T` and notice that it is the energy\n",
        "* and plot the absolute value squared of `psi_e`.  You may find it fruitful to only zoom in to the first ten points (`plt.xlim(0,10)`).  What do you notice?  What's the x-axis and the y-axis representing?"
      ]
    },
    {
      "cell_type": "markdown",
      "metadata": {
        "id": "-te0SZCL3Rso"
      },
      "source": [
        "<div><img src=\"https://clark.physics.illinois.edu/246img/AnsStart.svg\" width=200 align=left alt=\"Answer (start)\"></img><br></div>"
      ]
    },
    {
      "cell_type": "code",
      "execution_count": null,
      "metadata": {
        "tags": [
          "answer-cell",
          "hide-cell"
        ],
        "id": "d7MbutMz3Rso"
      },
      "outputs": [],
      "source": [
        "###ANSWER HERE"
      ]
    },
    {
      "cell_type": "markdown",
      "metadata": {
        "id": "cwsjx65o3Rso"
      },
      "source": [
        "<div><img src=\"https://clark.physics.illinois.edu/246img/AnsEnd.svg\" width=200 align=left alt=\"Answer (end)\"></img><br></div>"
      ]
    },
    {
      "cell_type": "markdown",
      "metadata": {
        "id": "aCd330N83Rso"
      },
      "source": [
        "What we have here is still the wave-function but it's a wave-function written in a different basis.  It's written in the energy basis.  If you measured the energy instead of the position, you would have a 10\\% chance of seeing the energy corresponding to $e_0$, a 25\\% chance of seeing the energy corresponding to $e_1$ and a 65\\% chance of seeing the energy corresponding to $e_2$."
      ]
    },
    {
      "cell_type": "markdown",
      "metadata": {
        "id": "j1OzAZ1D3Rso"
      },
      "source": [
        "## Exercise 3. Time Evolution"
      ]
    },
    {
      "cell_type": "markdown",
      "metadata": {
        "id": "r5CMQxK63Rso"
      },
      "source": [
        "We found the eigenstates by solving the time-independent Schrodinger equation. This equation was originally derived from the time-dependent Schrodinger equation\n",
        "\n",
        "$$-\\frac{\\hbar^2}{2m} \\frac{\\partial^2 \\Psi}{\\partial x^2}  + V\\Psi = i \\hbar \\frac{\\partial}{\\partial t}\\Psi $$\n",
        "\n",
        "or more generically\n",
        "\n",
        "$$ -\\frac{i}{\\hbar} H \\Psi = \\frac{\\partial}{\\partial t}\\Psi $$\n",
        "\n",
        "Let's think for a moment about what this equation is telling us.   It's telling us that the way that the wave-function changes in a moment of time $\\delta t$ is by $\\frac{i}{\\hbar}H\\Psi(\\delta t )$\n",
        "\n",
        "This gives us a mechanism to time-evolve our state:\n",
        "\n",
        "$$\\Psi(t+\\delta t) = \\Psi(t)+ -i \\frac{\\delta t}{\\hbar} H\\Psi(t)$$\n",
        "\n",
        "If we want to time evolve it a time $T$, we get\n",
        "$$\\Psi(t+T) = (1-i \\frac{\\delta t}{\\hbar} H)^{T/\\delta t}\\Psi(t)$$\n",
        "\n",
        "In the limit where $\\delta t \\rightarrow 0$ this is equal to\n",
        "\n",
        "$$\\Psi(t+T) = \\exp[-i H \\delta t]^{T/\\delta t} \\Psi(t)$$\n",
        "\n",
        "\n",
        "This latter formula is much more numerically stable and has the advantage that it is correct for any value of $\\delta t$ (which can be easily derived algebraically)."
      ]
    },
    {
      "cell_type": "markdown",
      "metadata": {
        "id": "j-6H6rTa3Rso"
      },
      "source": [
        "### a. Time Evolution"
      ]
    },
    {
      "cell_type": "markdown",
      "metadata": {
        "id": "G28sOI7d3Rsp"
      },
      "source": [
        "Again starting with our wave-function\n",
        "\n",
        "$$|\\Psi\\rangle = \\sqrt{0.1}|v_0\\rangle + \\sqrt{0.25}|v_1\\rangle + i \\sqrt{0.65}|v_2\\rangle$$\n",
        "\n",
        "let's do time evolution using a time step of $\\Delta t=0.5$ for 400 steps (i.e. to $T=200$). At each time step, save a snapshop of the entire wave-function - i.e. `myData.append(psi)`\n",
        "\n",
        "To take a matrix exponential, you can use `scipy.linalg.expm`.  It will not work if you just naively call exp.\n",
        "\n",
        "First, go ahead and plot the wave-function probability at time-steps 0, 50, 200, and 350 all on the same graph.\n",
        "\n",
        "Secondly, we will want to animate the wave-function probability as a function of time.  To do this, you can use the following code (where myData is a list of wave-functions)\n",
        "\n",
        "```\n",
        "def update(frame, max_value):\n",
        "    plt.cla()  # Clear the current plot\n",
        "    plt.plot(xs, np.abs(myData[frame])**2)  \n",
        "    plt.ylim(0, max_value)  # Set the y-axis limit\n",
        "    plt.xlabel('x')\n",
        "    plt.ylabel('Probability')\n",
        "    plt.title(f'Frame {frame+1}/{len(myData)}')  # Display the frame number\n",
        "\n",
        "# Create a figure and axis\n",
        "fig, ax = plt.subplots()\n",
        "\n",
        "# Generate the animation\n",
        "max_value = np.max([np.max(np.abs(array)**2) for array in myData[1:]])\n",
        "animation = FuncAnimation(fig, update, frames=len(myData), interval=10, fargs=(max_value,))\n",
        "display(HTML(animation.to_jshtml()))\n",
        "plt.close()\n",
        "```\n",
        "\n",
        "\n",
        "Run this code and generate the animation. Play it and see how the wave-function changes as a function of time.\n"
      ]
    },
    {
      "cell_type": "markdown",
      "metadata": {
        "id": "T5LF_vAA3Rsp"
      },
      "source": [
        "<div><img src=\"https://clark.physics.illinois.edu/246img/AnsStart.svg\" width=200 align=left alt=\"Answer (start)\"></img><br></div>"
      ]
    },
    {
      "cell_type": "code",
      "execution_count": null,
      "metadata": {
        "tags": [
          "hide-cell",
          "answer-cell"
        ],
        "id": "fiBnGaTF3Rsp"
      },
      "outputs": [],
      "source": [
        "###ANSWER HERE"
      ]
    },
    {
      "cell_type": "code",
      "execution_count": null,
      "metadata": {
        "tags": [
          "hide-cell",
          "answer-cell"
        ],
        "id": "iwGPU1iK3Rsp"
      },
      "outputs": [],
      "source": [
        "###ANSWER HERE"
      ]
    },
    {
      "cell_type": "code",
      "execution_count": null,
      "metadata": {
        "tags": [
          "answer-cell",
          "hide-cell"
        ],
        "id": "blTfKUWw3Rsp"
      },
      "outputs": [],
      "source": [
        "###ANSWER HERE"
      ]
    },
    {
      "cell_type": "markdown",
      "metadata": {
        "id": "0yYv5ywE3Rsp"
      },
      "source": [
        "<div><img src=\"https://clark.physics.illinois.edu/246img/AnsEnd.svg\" width=200 align=left alt=\"Answer (end)\"></img><br></div>"
      ]
    },
    {
      "cell_type": "markdown",
      "metadata": {
        "id": "cKQ4PJkj3Rsp"
      },
      "source": [
        "### b.  Time evolution of expectation values"
      ]
    },
    {
      "cell_type": "markdown",
      "metadata": {
        "id": "bRtvm5n33Rsp"
      },
      "source": [
        "Above we've animated the wave-function. Sometimes, we are just interested in how the expectation values change with time.  \n",
        "\n",
        "In particular, we would like to compute the time-evolution of the expected values of\n",
        "* $\\langle x \\rangle(t)$\n",
        "* $\\langle p \\rangle(t)$\n",
        "* $\\langle H \\rangle(t)$ (which is the energy)\n",
        "\n",
        "Loop over your already computed wave-functions and make a (length 400) list for these three observables recording their value at each moment in time.\n",
        "\n",
        "Also compute the derivative of the position $\\partial \\langle x \\rangle(t)/\\partial t$.   You can do this either with finite differences or by doing `np.gradient(position,delta_t)`\n",
        "\n",
        "We want to plot the position and the momentum on separate plots but on top of each other so that you can see when things happen at the same time. You can do that using\n",
        "```\n",
        "ax=plt.subplots(2,1)[1]\n",
        "ts=np.array(range(len(position)))*delta_t\n",
        "ax[0].plot(ts,position,label=\"Position\")\n",
        "ax[0].grid()\n",
        "ax[0].set_ylabel(\"Position\")\n",
        "ax[1].plot(ts,velocity,label=\"Velocity\",marker='.')\n",
        "ax[1].plot(ts,momentum,label=\"Momentum\")\n",
        "ax[1].set_ylabel(\"Momentum\")\n",
        "ax[1].grid()\n",
        "plt.xlabel(\"time\")\n",
        "plt.show()\n",
        "```\n",
        "(position, momentum and velocity are the three list names...you may have to change it for your list names)\n",
        "\n",
        "\n",
        "Notice\n",
        "* whenever the expectation value of the position is at a local minima the expectation value of the momentum is zero.  This is what we expect but it's not obvious that it should happen for the expectation value of the wave-functions (which are just complicated averages of things you measure after all).\n",
        "\n",
        "* the derivative of the expectation value of the position is the expectation value of the momentum. Again, what we expect but it's not obvious this should happen for the expcation value of wave-functions (but for an understanding of both of these see Ehrenfest theorem)\n",
        "\n"
      ]
    },
    {
      "cell_type": "markdown",
      "metadata": {
        "id": "IOeh57563Rsp"
      },
      "source": [
        "<div><img src=\"https://clark.physics.illinois.edu/246img/AnsStart.svg\" width=200 align=left alt=\"Answer (start)\"></img><br></div>"
      ]
    },
    {
      "cell_type": "code",
      "execution_count": null,
      "metadata": {
        "tags": [
          "answer-cell",
          "hide-cell"
        ],
        "id": "h2hrC4_83Rsp"
      },
      "outputs": [],
      "source": [
        "###ANSWER HERE"
      ]
    },
    {
      "cell_type": "code",
      "execution_count": null,
      "metadata": {
        "tags": [
          "answer-cell",
          "hide-cell"
        ],
        "id": "-pIoq77r3Rsp"
      },
      "outputs": [],
      "source": [
        "###ANSWER HERE"
      ]
    },
    {
      "cell_type": "markdown",
      "metadata": {
        "id": "m7t0MJ_23Rsp"
      },
      "source": [
        "<div><img src=\"https://clark.physics.illinois.edu/246img/AnsEnd.svg\" width=200 align=left alt=\"Answer (end)\"></img><br></div>"
      ]
    },
    {
      "cell_type": "markdown",
      "metadata": {
        "id": "SZq6hC9f3Rsp"
      },
      "source": [
        "Here we've plotted the expectation value of position and momentum against time.  It's also interesting to make a phase plot where we plot the expectation value of the position and momentum against each other.  Go ahead and make this plot"
      ]
    },
    {
      "cell_type": "markdown",
      "metadata": {
        "id": "WUVpsbzw3Rsq"
      },
      "source": [
        "<div><img src=\"https://clark.physics.illinois.edu/246img/AnsStart.svg\" width=200 align=left alt=\"Answer (start)\"></img><br></div>"
      ]
    },
    {
      "cell_type": "code",
      "execution_count": null,
      "metadata": {
        "tags": [
          "answer-cell",
          "hide-cell"
        ],
        "id": "LXB-nVrL3Rsq"
      },
      "outputs": [],
      "source": [
        "###ANSWER HERE"
      ]
    },
    {
      "cell_type": "markdown",
      "metadata": {
        "id": "dwH506WR3Rsq"
      },
      "source": [
        "<div><img src=\"https://clark.physics.illinois.edu/246img/AnsEnd.svg\" width=200 align=left alt=\"Answer (end)\"></img><br></div>"
      ]
    },
    {
      "cell_type": "markdown",
      "metadata": {
        "id": "4gcSUvwo3Rsq"
      },
      "source": [
        "In addition, modify the animation code above to plot a vertical line (`plt.axvline(...)`) at the average position of $x$ at each moment in time.  This will require adding an additional line into the `update` function."
      ]
    },
    {
      "cell_type": "markdown",
      "metadata": {
        "id": "UkW0FpKh3Rsq"
      },
      "source": [
        "<div><img src=\"https://clark.physics.illinois.edu/246img/AnsStart.svg\" width=200 align=left alt=\"Answer (start)\"></img><br></div>"
      ]
    },
    {
      "cell_type": "code",
      "execution_count": null,
      "metadata": {
        "tags": [
          "answer-cell"
        ],
        "id": "2LGoqPJf3Rsq"
      },
      "outputs": [],
      "source": [
        "###ANSWER HERE"
      ]
    },
    {
      "cell_type": "markdown",
      "metadata": {
        "id": "_mxghVkL3Rsq"
      },
      "source": [
        "<div><img src=\"https://clark.physics.illinois.edu/246img/AnsEnd.svg\" width=200 align=left alt=\"Answer (start)\"></img><br></div>"
      ]
    },
    {
      "cell_type": "markdown",
      "metadata": {
        "id": "l6JNqZt83Rsq"
      },
      "source": [
        "Finally, let's plot the energy as a function of time.  Use some reasonable limits like `plt.ylim(0,1)` What do you notice and why?"
      ]
    },
    {
      "cell_type": "markdown",
      "metadata": {
        "id": "uXwBgC503Rsq"
      },
      "source": [
        "<div><img src=\"https://clark.physics.illinois.edu/246img/AnsStart.svg\" width=200 align=left alt=\"Answer (start)\"></img><br></div>"
      ]
    },
    {
      "cell_type": "code",
      "execution_count": null,
      "metadata": {
        "tags": [
          "answer-cell"
        ],
        "id": "tjVpUytF3Rsq"
      },
      "outputs": [],
      "source": [
        "###ANSWER HERE"
      ]
    },
    {
      "cell_type": "markdown",
      "metadata": {
        "id": "rprOUL3Y3Rsq"
      },
      "source": [
        "<div><img src=\"https://clark.physics.illinois.edu/246img/AnsEnd.svg\" width=200 align=left alt=\"Answer (end)\"></img><br></div>"
      ]
    },
    {
      "cell_type": "markdown",
      "metadata": {
        "id": "pRqoHBaN3Rsr"
      },
      "source": [
        "### c.  Time evolution of eigenstates"
      ]
    },
    {
      "cell_type": "markdown",
      "metadata": {
        "id": "6DtbQI4F3Rsr"
      },
      "source": [
        "Finally, we believe that the eigenstate should be stationary.  This means that they shouldn't change as a function of time.  Starting your state at $\\Psi(t=0)$ into the second eigenstate, time evolve it as above and plot the probabilties at time-steps 0, 50, 200, and 350"
      ]
    },
    {
      "cell_type": "markdown",
      "metadata": {
        "id": "hXlhdma03Rsr"
      },
      "source": [
        "<div><img src=\"https://clark.physics.illinois.edu/246img/AnsStart.svg\" width=200 align=left alt=\"Answer (start)\"></img><br></div>"
      ]
    },
    {
      "cell_type": "code",
      "execution_count": null,
      "metadata": {
        "tags": [
          "answer-cell"
        ],
        "id": "J8qYUgTg3Rsr"
      },
      "outputs": [],
      "source": [
        "###ANSWER HERE"
      ]
    },
    {
      "cell_type": "markdown",
      "metadata": {
        "id": "FPpMgm_I3Rsr"
      },
      "source": [
        "<div><img src=\"https://clark.physics.illinois.edu/246img/AnsEnd.svg\" width=200 align=left alt=\"Answer (end)\"></img><br></div>"
      ]
    },
    {
      "cell_type": "markdown",
      "metadata": {
        "id": "PC50DlZO3Rsr"
      },
      "source": [
        "**Acknowledgements:**\n",
        "* Bryan Clark (original)\n",
        "\n",
        "© Copyright 2025"
      ]
    },
    {
      "cell_type": "markdown",
      "metadata": {
        "id": "82CFo8Xz3Rsr"
      },
      "source": []
    }
  ],
  "metadata": {
    "kernelspec": {
      "display_name": "Python 3",
      "language": "python",
      "name": "python3"
    },
    "language_info": {
      "codemirror_mode": {
        "name": "ipython",
        "version": 3
      },
      "file_extension": ".py",
      "mimetype": "text/x-python",
      "name": "python",
      "nbconvert_exporter": "python",
      "pygments_lexer": "ipython3",
      "version": "3.9.6"
    },
    "colab": {
      "provenance": []
    }
  },
  "nbformat": 4,
  "nbformat_minor": 0
}